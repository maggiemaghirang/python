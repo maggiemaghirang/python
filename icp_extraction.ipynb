{
 "cells": [
  {
   "cell_type": "code",
   "execution_count": 8,
   "id": "6619996c",
   "metadata": {},
   "outputs": [
    {
     "name": "stdout",
     "output_type": "stream",
     "text": [
      "[-0.04273342, -0.04273342, -0.04273342, -0.04362295, -0.04380066, -0.04394951, -0.04407071, -0.04417604, -0.0442662, -0.04433987, -0.04440112, -0.04444471, -0.04448056]\n"
     ]
    }
   ],
   "source": [
    "import re\n",
    "\n",
    "hart2eV = 27.211396641308 \n",
    "\n",
    "f = open('icp.txt', 'r', encoding='utf8', errors='ignore')\n",
    "lines = f.readlines()\n",
    "for_icp = ' '.join([line.strip('INFO    │') for line in lines])\n",
    "for_icp = re.sub(r'\\n', '', for_icp)\n",
    "# for_icp = for_icp.replace(' ', '')\n",
    "for_icp = for_icp.replace('T: [', '{') ; for_icp = for_icp.replace(']', '}')\n",
    "\n",
    "for_icp = re.search('{(.+?)}', for_icp)\n",
    "if for_icp:\n",
    "    for_icp = for_icp.group(1)\n",
    "    for_icp = list(for_icp.split(\" \"))\n",
    "    \n",
    "icp = [float(icp)*hart2eV for icp in for_icp if icp]\n",
    "icp"
   ]
  },
  {
   "cell_type": "code",
   "execution_count": 4,
   "id": "cd8daafc",
   "metadata": {},
   "outputs": [
    {
     "ename": "TypeError",
     "evalue": "can't multiply sequence by non-int of type 'float'",
     "output_type": "error",
     "traceback": [
      "\u001b[1;31m---------------------------------------------------------------------------\u001b[0m",
      "\u001b[1;31mTypeError\u001b[0m                                 Traceback (most recent call last)",
      "\u001b[1;32m~\\AppData\\Local\\Temp/ipykernel_12660/3957466893.py\u001b[0m in \u001b[0;36m<module>\u001b[1;34m\u001b[0m\n\u001b[1;32m----> 1\u001b[1;33m \u001b[0micp\u001b[0m \u001b[1;33m*=\u001b[0m \u001b[0mhart2eV\u001b[0m\u001b[1;33m\u001b[0m\u001b[1;33m\u001b[0m\u001b[0m\n\u001b[0m",
      "\u001b[1;31mTypeError\u001b[0m: can't multiply sequence by non-int of type 'float'"
     ]
    }
   ],
   "source": [
    "icp *= hart2eV"
   ]
  },
  {
   "cell_type": "code",
   "execution_count": null,
   "id": "7666c7d3",
   "metadata": {},
   "outputs": [],
   "source": []
  }
 ],
 "metadata": {
  "kernelspec": {
   "display_name": "Python 3 (ipykernel)",
   "language": "python",
   "name": "python3"
  },
  "language_info": {
   "codemirror_mode": {
    "name": "ipython",
    "version": 3
   },
   "file_extension": ".py",
   "mimetype": "text/x-python",
   "name": "python",
   "nbconvert_exporter": "python",
   "pygments_lexer": "ipython3",
   "version": "3.9.7"
  }
 },
 "nbformat": 4,
 "nbformat_minor": 5
}
